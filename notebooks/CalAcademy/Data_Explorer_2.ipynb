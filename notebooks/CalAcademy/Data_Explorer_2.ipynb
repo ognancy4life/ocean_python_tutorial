{
 "cells": [
  {
   "cell_type": "markdown",
   "metadata": {},
   "source": [
    "# Explore Data 2"
   ]
  },
  {
   "cell_type": "code",
   "execution_count": null,
   "metadata": {},
   "outputs": [],
   "source": [
    "# Modules\n",
    "import warnings\n",
    "warnings.simplefilter('ignore') # filter some warning messages\n",
    "\n",
    "import numpy as np\n",
    "import pandas as pd\n",
    "import matplotlib.pyplot as plt\n",
    "import xarray as xr\n",
    "import seaborn as sns\n",
    "import datetime as dt\n",
    "import fsspec\n",
    "import s3fs\n",
    "import scipy.stats as stats\n",
    "# make datasets display nicely\n",
    "xr.set_options(display_style=\"html\")  \n",
    "\n",
    "#magic fncts #put static images of your plot embedded in the notebook\n",
    "%matplotlib inline  \n",
    "plt.rcParams['figure.figsize'] = 12, 6\n",
    "%config InlineBackend.figure_format = 'retina' "
   ]
  },
  {
   "cell_type": "markdown",
   "metadata": {},
   "source": [
    "# Mole Crab Data"
   ]
  },
  {
   "cell_type": "code",
   "execution_count": null,
   "metadata": {},
   "outputs": [],
   "source": [
    "### Read and look at mole crab data\n",
    "crabs = pd.read_csv('./Annual_UpwellingAprJul_OceanBeach.csv',index_col=0)\n",
    "crabs.head()"
   ]
  },
  {
   "cell_type": "markdown",
   "metadata": {},
   "source": [
    "# SST Data"
   ]
  },
  {
   "cell_type": "code",
   "execution_count": null,
   "metadata": {},
   "outputs": [],
   "source": [
    "### Read Sea Surface Data Available in zar\n",
    "\n",
    "file_location = 's3://mur-sst/zarr'\n",
    "\n",
    "ikey = fsspec.get_mapper(file_location, anon=True)\n",
    "\n",
    "ds_sst = xr.open_zarr(ikey,consolidated=True)\n",
    "\n",
    "#ds_sst"
   ]
  },
  {
   "cell_type": "code",
   "execution_count": null,
   "metadata": {},
   "outputs": [],
   "source": [
    "### Read data that matches crab data, in time and location\n",
    "\n",
    "sst_timeseries = ds_sst['analysed_sst'].sel(time = slice('2003-01-01','2016-12-31'),\n",
    "                                            lat  = slice(37.7,37.8), #37.76\n",
    "                                            lon  = slice(-122.55,-122.45) #-124.5\n",
    "                                           ).load()\n",
    "\n",
    "# average over lat and lon\n",
    "sst_timeseries = sst_timeseries.where(sst_timeseries>273.15)\n",
    "sst_timeseries = sst_timeseries.mean(dim={'lat','lon'},keep_attrs=True,skipna=True)\n",
    "\n",
    "### Plot and explore it\n",
    "sst_timeseries.plot()\n",
    "sst_timeseries"
   ]
  },
  {
   "cell_type": "markdown",
   "metadata": {},
   "source": [
    "# Making one Pandas DataFrame with all the Data\n",
    "## Averaged SST for each year's upwelling season"
   ]
  },
  {
   "cell_type": "code",
   "execution_count": null,
   "metadata": {},
   "outputs": [],
   "source": [
    "crabs['SST']=np.nan\n",
    "for i in range(2003,2017):\n",
    "        tmp = sst_timeseries.sel(time = slice(str(i)+'-04-01',str(i)+'-07-31')).mean()\n",
    "        #print(tmp.values)\n",
    "        a=crabs[crabs['Year']==i].index\n",
    "        crabs.at[a[0],'SST']=tmp.data-273.15\n",
    "crabs"
   ]
  },
  {
   "cell_type": "markdown",
   "metadata": {},
   "source": [
    "# Plot data"
   ]
  },
  {
   "cell_type": "markdown",
   "metadata": {},
   "source": [
    "## Time series plot"
   ]
  },
  {
   "cell_type": "code",
   "execution_count": null,
   "metadata": {},
   "outputs": [],
   "source": [
    "plt.figure(figsize=(8,6))\n",
    "plt.plot(crabs['Year'],crabs['Female'],'*-',label='Female')\n",
    "plt.plot(crabs['Year'],crabs['Female w Eggs'],'d-',label='Female w Eggs')\n",
    "plt.plot(crabs['Year'],crabs['Male'],'d-',label='Male')\n",
    "plt.legend()\n",
    "plt.ylabel('No. Crabs')\n",
    "plt.grid()\n",
    "plt.show()"
   ]
  },
  {
   "cell_type": "markdown",
   "metadata": {},
   "source": [
    "## Plot of two variables in differnt axis: SST + some Crab data"
   ]
  },
  {
   "cell_type": "code",
   "execution_count": null,
   "metadata": {},
   "outputs": [],
   "source": [
    "var='Male'\n",
    "fig, ax1 = plt.subplots()\n",
    "\n",
    "color = 'tab:red'\n",
    "ax1.set_ylabel('SST', color=color)\n",
    "ax1.plot(crabs.Year, crabs['SST'], '.-',color=color)\n",
    "ax1.tick_params(axis='y', labelcolor=color)\n",
    "\n",
    "ax2 = ax1.twinx()  # instantiate a second axes that shares the same x-axis\n",
    "color = 'tab:blue'\n",
    "ax2.set_ylabel(var+' Crabs', color=color)  # we already handled the x-label with ax1\n",
    "ax2.plot(crabs.Year, crabs[var], '*-',color=color)\n",
    "ax2.tick_params(axis='y', labelcolor=color)\n",
    "\n",
    "fig.tight_layout()  "
   ]
  },
  {
   "cell_type": "markdown",
   "metadata": {},
   "source": [
    "## Scatter plot"
   ]
  },
  {
   "cell_type": "code",
   "execution_count": null,
   "metadata": {},
   "outputs": [],
   "source": [
    "var='Female w Eggs'\n",
    "plt.figure(figsize=(8,6))\n",
    "plt.scatter(crabs['SST'],crabs[var],40, c=crabs['Year'],label='Female',cmap='jet')\n",
    "plt.colorbar()\n",
    "plt.legend()\n",
    "plt.ylabel('No. Crabs')\n",
    "plt.xlabel('SST')\n",
    "plt.grid()\n",
    "plt.show()"
   ]
  },
  {
   "cell_type": "markdown",
   "metadata": {},
   "source": [
    "## Correlation between SST and crab data"
   ]
  },
  {
   "cell_type": "code",
   "execution_count": null,
   "metadata": {},
   "outputs": [],
   "source": [
    "print('SST-variable correlation\\n(Correlation, p-value) \\n (<0.05 is good!)\\n')\n",
    "for i in list(crabs)[1:-1]:\n",
    "    tmp=crabs[(~np.isnan(crabs['SST']))&(~np.isnan(crabs[i]))]\n",
    "    print(i)\n",
    "    print(stats.pearsonr(tmp['SST'], tmp[i]))\n",
    "\n",
    "print('\\n')\n",
    "for i in list(crabs)[1:-1]:\n",
    "    tmp=crabs[(~np.isnan(crabs['SST']))&(~np.isnan(crabs[i]))&(crabs['Year']!=2015)]\n",
    "    print(i)\n",
    "    print(stats.pearsonr(tmp['SST'], tmp[i]))\n",
    "    \n",
    "print('\\n')\n",
    "for i in list(crabs)[1:-1]:\n",
    "    tmp=crabs[(~np.isnan(crabs['SST']))&(~np.isnan(crabs[i]))&(crabs['Year']<2015)]\n",
    "    print(i)\n",
    "    print(stats.pearsonr(tmp['SST'], tmp[i]))"
   ]
  },
  {
   "cell_type": "markdown",
   "metadata": {},
   "source": [
    "# Linear regression"
   ]
  },
  {
   "cell_type": "code",
   "execution_count": null,
   "metadata": {},
   "outputs": [],
   "source": [
    "# linear regressions\n",
    "for i in list(crabs)[1:-1]:\n",
    "    tmp=crabs[(~np.isnan(crabs['SST']))&(~np.isnan(crabs[i]))]\n",
    "    print(i)\n",
    "    slope, intercept, r_value, p_value, std_err = stats.linregress(tmp['SST'], tmp[i])\n",
    "    print(slope,p_value)"
   ]
  },
  {
   "cell_type": "code",
   "execution_count": null,
   "metadata": {},
   "outputs": [],
   "source": []
  }
 ],
 "metadata": {
  "kernelspec": {
   "display_name": "Python [conda env:farallon-fall-2020]",
   "language": "python",
   "name": "conda-env-farallon-fall-2020-py"
  },
  "language_info": {
   "codemirror_mode": {
    "name": "ipython",
    "version": 3
   },
   "file_extension": ".py",
   "mimetype": "text/x-python",
   "name": "python",
   "nbconvert_exporter": "python",
   "pygments_lexer": "ipython3",
   "version": "3.8.5"
  }
 },
 "nbformat": 4,
 "nbformat_minor": 4
}
