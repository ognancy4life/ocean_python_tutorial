{
 "cells": [
  {
   "cell_type": "markdown",
   "metadata": {},
   "source": [
    "<img src='./figures/pythonforoceanographers.png'> </img>\n",
    "# Python for Oceanographers  \n",
    "Chelle Gentemann (cgentemann@esr.org) \n",
    "\n",
    "Marisol García-Reyes (marisolgr@faralloninstitute.org)"
   ]
  },
  {
   "cell_type": "markdown",
   "metadata": {},
   "source": [
    "-----------"
   ]
  },
  {
   "cell_type": "markdown",
   "metadata": {},
   "source": [
    "<img src='./figures/pythonlogo.png'> </img>\n",
    "\n",
    "## `Python` is an awesome programming language\n",
    "- It is `Open Source`: it is free, everybody can use it, everybody can contribute to it\n",
    "- It is used by an enourmous community of developers\n",
    "- All the need you might need is online "
   ]
  },
  {
   "cell_type": "markdown",
   "metadata": {},
   "source": [
    "## `Python` can be install on your computer or you can run it online, in the Cloud\n",
    "\n",
    "\n",
    "### If you're running this from the `Binder`, you're already working in the cloud!!!"
   ]
  },
  {
   "cell_type": "markdown",
   "metadata": {},
   "source": [
    "--------------"
   ]
  },
  {
   "cell_type": "markdown",
   "metadata": {},
   "source": [
    "### `Jupyter` is a project for developing open-source software\n",
    "### `Jupyter Lab` is a web application (user interface) to create scripts"
   ]
  },
  {
   "cell_type": "markdown",
   "metadata": {},
   "source": [
    "<div class=\"alert alert-block alert-info\">\n",
    "    <b>We are going to make all our analysis online on a JupyterLab Notebook</b>\n",
    "</div>"
   ]
  },
  {
   "cell_type": "markdown",
   "metadata": {},
   "source": [
    "<img src='./figures/lab_logo_tng.png'> </img>\n",
    "\n",
    "# `JupyterLab` basics\n",
    "## Add cell: `+` on the menu above\n",
    "\n",
    "## Two type of cells, change in the menu above\n",
    "### `Code` Cells: execute code\n",
    "### `Markdown` Cells: show formated text\n",
    "\n",
    "## To execute cells\n",
    "### - `Shift-Enter` : executes cell & advance to next\n",
    "### - `Control-enter` : executes cell & stay in the same cell"
   ]
  },
  {
   "cell_type": "markdown",
   "metadata": {},
   "source": [
    "----------"
   ]
  },
  {
   "cell_type": "markdown",
   "metadata": {},
   "source": [
    "# But first, some `Python` basics\n",
    "\n",
    "## Python is `Modular`: it has all the libraries you could possibly need; you do not need to install them all\n",
    "- Libraries are just a collection of programs or functions for a specific purpose.  \n",
    "\n",
    "<div class=\"alert alert-block alert-info\">\n",
    " That means you have to start by 'loading' or 'importing' the libraries you need\n",
    "</div>"
   ]
  },
  {
   "cell_type": "code",
   "execution_count": null,
   "metadata": {},
   "outputs": [],
   "source": [
    "import numpy as np\n",
    "import pandas as pd\n",
    "from datetime import timedelta\n",
    "import xarray as xr"
   ]
  },
  {
   "cell_type": "markdown",
   "metadata": {},
   "source": [
    "----------"
   ]
  },
  {
   "cell_type": "markdown",
   "metadata": {},
   "source": [
    "## the `xarray` module is probably our favorite!"
   ]
  },
  {
   "cell_type": "markdown",
   "metadata": {},
   "source": [
    "<img src='./figures/xarray-boxes.png'> </img>"
   ]
  },
  {
   "cell_type": "markdown",
   "metadata": {},
   "source": [
    "## Python is `Object Oriented`: each variable or object has attributes or functions particular to the type of object"
   ]
  },
  {
   "cell_type": "code",
   "execution_count": null,
   "metadata": {},
   "outputs": [],
   "source": [
    "myvar = 'hola mundo!'\n",
    "type(myvar)"
   ]
  },
  {
   "cell_type": "code",
   "execution_count": null,
   "metadata": {},
   "outputs": [],
   "source": [
    "myvar.upper()"
   ]
  },
  {
   "cell_type": "code",
   "execution_count": null,
   "metadata": {},
   "outputs": [],
   "source": [
    "myvar.upper()[:4]"
   ]
  },
  {
   "cell_type": "code",
   "execution_count": null,
   "metadata": {},
   "outputs": [],
   "source": [
    "myvar.upper().lower()"
   ]
  }
 ],
 "metadata": {
  "kernelspec": {
   "display_name": "Python 3",
   "language": "python",
   "name": "python3"
  },
  "language_info": {
   "codemirror_mode": {
    "name": "ipython",
    "version": 3
   },
   "file_extension": ".py",
   "mimetype": "text/x-python",
   "name": "python",
   "nbconvert_exporter": "python",
   "pygments_lexer": "ipython3",
   "version": "3.7.6"
  }
 },
 "nbformat": 4,
 "nbformat_minor": 4
}
