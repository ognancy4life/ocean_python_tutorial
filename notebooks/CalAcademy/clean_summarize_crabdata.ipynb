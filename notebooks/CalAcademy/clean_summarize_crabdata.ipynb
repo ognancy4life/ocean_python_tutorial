{
 "cells": [
  {
   "cell_type": "code",
   "execution_count": null,
   "metadata": {},
   "outputs": [],
   "source": [
    "import warnings\n",
    "warnings.simplefilter('ignore') # filter some warning messages\n",
    "\n",
    "import numpy as np\n",
    "import pandas as pd\n",
    "import matplotlib.pyplot as plt"
   ]
  },
  {
   "cell_type": "code",
   "execution_count": null,
   "metadata": {},
   "outputs": [],
   "source": [
    "# read data file\n",
    "tmp = pd.read_excel('./sandcrab_data_2017-11-16.xlsx', sheet_name=4, usecols=[*range(11)])\n",
    "tmp['Year']= pd.DatetimeIndex(tmp.Date).year\n",
    "tmp['Month']= pd.DatetimeIndex(tmp.Date).month\n",
    "tmp.tail()"
   ]
  },
  {
   "cell_type": "code",
   "execution_count": null,
   "metadata": {},
   "outputs": [],
   "source": [
    "# calculate factor to get number of crabs per square meter\n",
    "# 'sample area' - core diameter = 15.2cm\n",
    "ar = np.pi*(0.152)**2 # in sm squared meters\n",
    "# to transform number of crabs per sample to crabs per square meters divide by ar"
   ]
  },
  {
   "cell_type": "code",
   "execution_count": null,
   "metadata": {},
   "outputs": [],
   "source": [
    "# per year, per upwelling season (april-july)\n",
    "# calculate the total, and averaged (pm2)\n",
    "iy = 2002\n",
    "fy = 2016 # technically september\n",
    "df = pd.DataFrame(columns={'Year','Month','Total Crabs','Male','Female','Female w Eggs', 'Recruits'})\n",
    "ix = 0\n",
    "for i in range(iy,fy+1):\n",
    "    # select site and year\n",
    "    tmpi = tmp[(tmp.Year==i)&(tmp.Site=='Ocean Beach')]\n",
    "    #print(i)\n",
    "    # select month\n",
    "    for j in range(4,8): # upwelling season only\n",
    "        tmpm = tmpi[tmp.Month==j]\n",
    "        #print(j)\n",
    "        # only year, month, total, male, fem, femweggs\n",
    "        df.at[ix,'Year'] =i\n",
    "        df.at[ix,'Month']=j\n",
    "        df.at[ix,'Total Crabs'] = np.round(np.nanmean(tmpm['Total Crabs'])/ar,1)\n",
    "        df.at[ix,'Male']=np.round(np.nanmean(tmpm['#Male'])/ar,1)\n",
    "        df.at[ix,'Female']=np.round(np.nanmean(tmpm['#Female'])/ar,1)\n",
    "        df.at[ix,'Female w Eggs']= np.round(np.nanmean(tmpm['#Female w/t Eggs'])/ar,1)\n",
    "        df.at[ix,'Recruits']= np.round(np.nanmean(tmpm['#Recruits'])/ar,1)\n",
    "        ix += 1\n",
    "df = df[['Year','Month','Total Crabs','Male','Female','Female w Eggs','Recruits']]\n",
    "df.head()"
   ]
  },
  {
   "cell_type": "code",
   "execution_count": null,
   "metadata": {},
   "outputs": [],
   "source": [
    "# Annual averages (upwelling season)\n",
    "ix = 0\n",
    "dfan = pd.DataFrame(columns={'Year','Total Crabs','Male','Female','Female w Eggs', 'Recruits'})\n",
    "\n",
    "for i in range(iy,fy+1):\n",
    "    # print(i)\n",
    "    tmp=df[df.Year==i]\n",
    "    dfan.at[ix,'Year']=i\n",
    "    dfan.at[ix,'Total Crabs']=np.nanmean(tmp['Total Crabs'])\n",
    "    dfan.at[ix,'Male']=np.nanmean(tmp['Male'])\n",
    "    dfan.at[ix,'Female']=np.nanmean(tmp['Female'])\n",
    "    dfan.at[ix,'Female w Eggs']=np.nanmean(tmp['Female w Eggs'])\n",
    "    dfan.at[ix,'Recruits']=np.nanmean(tmp['Recruits'])\n",
    "    ix +=1\n",
    "dfan=dfan[['Year','Total Crabs','Male','Female','Female w Eggs', 'Recruits']]\n",
    "dfan.to_csv('./Annual_UpwellingAprJul_OceanBean.csv')\n",
    "dfan\n",
    "#plt.bar(range(iy,fy+1),anab)\n",
    "#plt.grid()\n",
    "\n"
   ]
  },
  {
   "cell_type": "code",
   "execution_count": null,
   "metadata": {},
   "outputs": [],
   "source": [
    "plt.figure(figsize=(8,5))\n",
    "plt.plot(dfan.Year,dfan['Total Crabs'],'*-',label='Total')\n",
    "plt.plot(dfan.Year,dfan['Recruits'],'d-',label='Recruits')\n",
    "plt.legend()\n",
    "plt.grid()\n",
    "plt.show()\n",
    "\n",
    "plt.figure(figsize=(8,5))\n",
    "plt.plot(dfan.Year,dfan['Male'],'*-',label='Male')\n",
    "plt.plot(dfan.Year,dfan['Female'],'d-',label='Female')\n",
    "plt.plot(dfan.Year,dfan['Female w Eggs'],'o-',label='Female w Eggs')\n",
    "#plt.plot(dfan.Year,dfan['Recruits'],'s-',label='Recruits')\n",
    "plt.legend()\n",
    "plt.grid()\n",
    "plt.show()"
   ]
  },
  {
   "cell_type": "code",
   "execution_count": null,
   "metadata": {},
   "outputs": [],
   "source": []
  }
 ],
 "metadata": {
  "kernelspec": {
   "display_name": "Python [conda env:farallon-fall-2020]",
   "language": "python",
   "name": "conda-env-farallon-fall-2020-py"
  },
  "language_info": {
   "codemirror_mode": {
    "name": "ipython",
    "version": 3
   },
   "file_extension": ".py",
   "mimetype": "text/x-python",
   "name": "python",
   "nbconvert_exporter": "python",
   "pygments_lexer": "ipython3",
   "version": "3.8.5"
  }
 },
 "nbformat": 4,
 "nbformat_minor": 4
}
