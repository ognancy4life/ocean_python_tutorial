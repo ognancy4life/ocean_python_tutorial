{
 "cells": [
  {
   "cell_type": "markdown",
   "metadata": {},
   "source": [
    "# Data Exploration"
   ]
  },
  {
   "cell_type": "code",
   "execution_count": null,
   "metadata": {},
   "outputs": [],
   "source": [
    "# Modules\n",
    "import warnings\n",
    "warnings.simplefilter('ignore') # filter some warning messages\n",
    "\n",
    "import numpy as np\n",
    "import pandas as pd\n",
    "import matplotlib.pyplot as plt\n",
    "import xarray as xr\n",
    "import seaborn as sns\n",
    "import datetime as dt\n",
    "import fsspec\n",
    "import s3fs\n",
    "import scipy.stats as stats\n",
    "# make datasets display nicely\n",
    "xr.set_options(display_style=\"html\")  \n",
    "\n",
    "#magic fncts #put static images of your plot embedded in the notebook\n",
    "%matplotlib inline  \n",
    "plt.rcParams['figure.figsize'] = 12, 6\n",
    "%config InlineBackend.figure_format = 'retina' "
   ]
  },
  {
   "cell_type": "markdown",
   "metadata": {},
   "source": [
    "# Mole Crab Data"
   ]
  },
  {
   "cell_type": "code",
   "execution_count": null,
   "metadata": {},
   "outputs": [],
   "source": [
    "### Read and explore mole crab data\n",
    "crabs = pd.read_csv('./MoleCrab_abundance_annual.csv',index_col=2)\n",
    "\n",
    "crabs.head()"
   ]
  },
  {
   "cell_type": "code",
   "execution_count": null,
   "metadata": {},
   "outputs": [],
   "source": [
    "crabs = pd.read_csv('./MoleCrab_abundance_annual.csv',index_col=2)\n",
    "crabs.tail()"
   ]
  },
  {
   "cell_type": "code",
   "execution_count": null,
   "metadata": {},
   "outputs": [],
   "source": [
    "### Plot a distribution of abundance\n",
    "sns.distplot(crabs['Abundance (psm)'])"
   ]
  },
  {
   "cell_type": "code",
   "execution_count": null,
   "metadata": {},
   "outputs": [],
   "source": [
    "### Plot annual data\n",
    "\n",
    "plt.bar(crabs.index,crabs['Abundance (psm)'])\n",
    "\n",
    "plt.xticks([*range(2000,2020,2)])\n",
    "\n",
    "plt.grid()\n",
    "\n",
    "plt.show()"
   ]
  },
  {
   "cell_type": "code",
   "execution_count": null,
   "metadata": {},
   "outputs": [],
   "source": [
    "### Read Sea Surface Data Available in zar\n",
    "\n",
    "file_location = 's3://mur-sst/zarr'\n",
    "\n",
    "ikey = fsspec.get_mapper(file_location, anon=True)\n",
    "\n",
    "ds_sst = xr.open_zarr(ikey,consolidated=True)\n",
    "\n",
    "#ds_sst"
   ]
  },
  {
   "cell_type": "code",
   "execution_count": null,
   "metadata": {},
   "outputs": [],
   "source": [
    "### Read data that matches crab data, in time and location\n",
    "\n",
    "sst_timeseries = ds_sst['analysed_sst'].sel(time = slice('2003-01-01','2016-12-31'),\n",
    "                                            lat  = 37.76,\n",
    "                                            lon  = -124.5\n",
    "                                           ).load()\n",
    "\n",
    "### Plot and explore it\n",
    "sst_timeseries.plot()\n",
    "sst_timeseries"
   ]
  },
  {
   "cell_type": "code",
   "execution_count": null,
   "metadata": {},
   "outputs": [],
   "source": [
    "### Average data annually\n",
    "\n",
    "sst_annual = sst_timeseries.groupby('time.year').mean('time',keep_attrs=True)\n",
    "\n",
    "sst_annual.plot()"
   ]
  },
  {
   "cell_type": "markdown",
   "metadata": {},
   "source": [
    "### Add temperature data to the crab data frame\n",
    "\n",
    "crabs = crabs[crabs.index>=2003]\n",
    "\n",
    "tmp = pd.DataFrame(data=sst_annual.data - 273.15, columns={'SST'}, index=[*range(2003,2018)])\n",
    "\n",
    "crabs['SST'] = tmp\n",
    "\n",
    "### Take a look\n",
    "\n",
    "crabs"
   ]
  },
  {
   "cell_type": "markdown",
   "metadata": {},
   "source": [
    "### Scatter Plot\n",
    "\n",
    "plt.figure(figsize=(8,6))\n",
    "\n",
    "plt.plot(crabs['SST'],crabs['Abundance (psm)'],'*')\n",
    "\n",
    "### Correlation\n",
    "stats.pearsonr(crabs['SST'], crabs['Abundance (psm)']) "
   ]
  },
  {
   "cell_type": "markdown",
   "metadata": {},
   "source": [
    "### Time series plot\n",
    "\n",
    "plt.figure(figsize=(8,6))\n",
    "\n",
    "plt.plot(crabs['SST'],crabs['Abundance (psm)'],'*')\n",
    "\n",
    "fig, ax1 = plt.subplots()\n",
    "\n",
    "color = 'tab:red'\n",
    "\n",
    "ax1.set_ylabel('SST', color='tab:red')\n",
    "\n",
    "ax1.plot(crabs.index, crabs['SST'], color='tab:red')\n",
    "\n",
    "ax1.tick_params(axis='y', labelcolor='tab:red')\n",
    "\n",
    "ax2 = ax1.twinx()  # instantiate a second axes that shares the same x-axis\n",
    "\n",
    "color = 'tab:blue'\n",
    "\n",
    "ax2.set_ylabel('sin', color=color)  # we already handled the x-label with ax1\n",
    "\n",
    "ax2.plot(t, data2, color=color)\n",
    "\n",
    "ax2.tick_params(axis='y', labelcolor=color)\n",
    "\n",
    "fig.tight_layout()  \n"
   ]
  },
  {
   "cell_type": "code",
   "execution_count": null,
   "metadata": {},
   "outputs": [],
   "source": []
  }
 ],
 "metadata": {
  "kernelspec": {
   "display_name": "Python [conda env:farallon-fall-2020]",
   "language": "python",
   "name": "conda-env-farallon-fall-2020-py"
  },
  "language_info": {
   "codemirror_mode": {
    "name": "ipython",
    "version": 3
   },
   "file_extension": ".py",
   "mimetype": "text/x-python",
   "name": "python",
   "nbconvert_exporter": "python",
   "pygments_lexer": "ipython3",
   "version": "3.8.5"
  }
 },
 "nbformat": 4,
 "nbformat_minor": 4
}
